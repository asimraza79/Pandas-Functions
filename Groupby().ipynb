{
 "cells": [
  {
   "cell_type": "code",
   "execution_count": 3,
   "id": "eaceffcc",
   "metadata": {},
   "outputs": [],
   "source": [
    "import pandas as pd"
   ]
  },
  {
   "cell_type": "code",
   "execution_count": 4,
   "id": "0e0ede3c",
   "metadata": {},
   "outputs": [
    {
     "data": {
      "text/html": [
       "<div>\n",
       "<style scoped>\n",
       "    .dataframe tbody tr th:only-of-type {\n",
       "        vertical-align: middle;\n",
       "    }\n",
       "\n",
       "    .dataframe tbody tr th {\n",
       "        vertical-align: top;\n",
       "    }\n",
       "\n",
       "    .dataframe thead th {\n",
       "        text-align: right;\n",
       "    }\n",
       "</style>\n",
       "<table border=\"1\" class=\"dataframe\">\n",
       "  <thead>\n",
       "    <tr style=\"text-align: right;\">\n",
       "      <th></th>\n",
       "      <th>date</th>\n",
       "      <th>abc</th>\n",
       "      <th>name</th>\n",
       "      <th>roll</th>\n",
       "      <th>id</th>\n",
       "      <th>med</th>\n",
       "      <th>customer</th>\n",
       "    </tr>\n",
       "  </thead>\n",
       "  <tbody>\n",
       "    <tr>\n",
       "      <th>0</th>\n",
       "      <td>1/9/2022</td>\n",
       "      <td>yes</td>\n",
       "      <td>asim</td>\n",
       "      <td>13.0</td>\n",
       "      <td>1.0</td>\n",
       "      <td>123.0</td>\n",
       "      <td>34</td>\n",
       "    </tr>\n",
       "    <tr>\n",
       "      <th>1</th>\n",
       "      <td>1/2/2019</td>\n",
       "      <td>yes</td>\n",
       "      <td>zain</td>\n",
       "      <td>143.0</td>\n",
       "      <td>2.0</td>\n",
       "      <td>345.0</td>\n",
       "      <td>23</td>\n",
       "    </tr>\n",
       "    <tr>\n",
       "      <th>2</th>\n",
       "      <td>4/6/2019</td>\n",
       "      <td>no</td>\n",
       "      <td>NaN</td>\n",
       "      <td>NaN</td>\n",
       "      <td>3.0</td>\n",
       "      <td>NaN</td>\n",
       "      <td>2</td>\n",
       "    </tr>\n",
       "    <tr>\n",
       "      <th>3</th>\n",
       "      <td>4/11/2022</td>\n",
       "      <td>yes</td>\n",
       "      <td>NaN</td>\n",
       "      <td>NaN</td>\n",
       "      <td>NaN</td>\n",
       "      <td>345.0</td>\n",
       "      <td>3</td>\n",
       "    </tr>\n",
       "    <tr>\n",
       "      <th>4</th>\n",
       "      <td>2/10/2021</td>\n",
       "      <td>no</td>\n",
       "      <td>zaib</td>\n",
       "      <td>156.0</td>\n",
       "      <td>NaN</td>\n",
       "      <td>987.0</td>\n",
       "      <td>45</td>\n",
       "    </tr>\n",
       "    <tr>\n",
       "      <th>5</th>\n",
       "      <td>6/3/2022</td>\n",
       "      <td>yes</td>\n",
       "      <td>asif</td>\n",
       "      <td>NaN</td>\n",
       "      <td>NaN</td>\n",
       "      <td>NaN</td>\n",
       "      <td>6</td>\n",
       "    </tr>\n",
       "    <tr>\n",
       "      <th>6</th>\n",
       "      <td>2/4/2022</td>\n",
       "      <td>NaN</td>\n",
       "      <td>NaN</td>\n",
       "      <td>12.0</td>\n",
       "      <td>7.0</td>\n",
       "      <td>NaN</td>\n",
       "      <td>7</td>\n",
       "    </tr>\n",
       "  </tbody>\n",
       "</table>\n",
       "</div>"
      ],
      "text/plain": [
       "        date  abc  name   roll   id    med  customer\n",
       "0   1/9/2022  yes  asim   13.0  1.0  123.0        34\n",
       "1   1/2/2019  yes  zain  143.0  2.0  345.0        23\n",
       "2   4/6/2019   no   NaN    NaN  3.0    NaN         2\n",
       "3  4/11/2022  yes   NaN    NaN  NaN  345.0         3\n",
       "4  2/10/2021   no  zaib  156.0  NaN  987.0        45\n",
       "5   6/3/2022  yes  asif    NaN  NaN    NaN         6\n",
       "6   2/4/2022  NaN   NaN   12.0  7.0    NaN         7"
      ]
     },
     "execution_count": 4,
     "metadata": {},
     "output_type": "execute_result"
    }
   ],
   "source": [
    "df=pd.read_csv('D:\\\\Paython\\\\Book1.csv')\n",
    "df"
   ]
  },
  {
   "cell_type": "raw",
   "id": "3687dec7",
   "metadata": {},
   "source": [
    "df.groupby(b)"
   ]
  },
  {
   "cell_type": "code",
   "execution_count": 9,
   "id": "75467593",
   "metadata": {},
   "outputs": [
    {
     "data": {
      "text/plain": [
       "<pandas.core.groupby.generic.DataFrameGroupBy object at 0x000001A30EA35520>"
      ]
     },
     "execution_count": 9,
     "metadata": {},
     "output_type": "execute_result"
    }
   ],
   "source": [
    "gr1=df.groupby(by='name')\n",
    "gr1"
   ]
  },
  {
   "cell_type": "code",
   "execution_count": 11,
   "id": "cc00fa03",
   "metadata": {},
   "outputs": [
    {
     "data": {
      "text/plain": [
       "{'asif': [5], 'asim': [0], 'zaib': [4], 'zain': [1]}"
      ]
     },
     "execution_count": 11,
     "metadata": {},
     "output_type": "execute_result"
    }
   ],
   "source": [
    "gr1.groups"
   ]
  },
  {
   "cell_type": "code",
   "execution_count": 12,
   "id": "aff95618",
   "metadata": {},
   "outputs": [
    {
     "data": {
      "text/plain": [
       "<pandas.core.groupby.generic.DataFrameGroupBy object at 0x000001A30EA35220>"
      ]
     },
     "execution_count": 12,
     "metadata": {},
     "output_type": "execute_result"
    }
   ],
   "source": [
    "gr2=df.groupby(['name','roll'])\n",
    "gr2"
   ]
  },
  {
   "cell_type": "code",
   "execution_count": 22,
   "id": "3a528ce8",
   "metadata": {},
   "outputs": [
    {
     "data": {
      "text/plain": [
       "{('asif', nan): [5], ('asim', 13.0): [0], ('zaib', 156.0): [4], ('zain', 143.0): [1], (nan, 12.0): [6], (nan, nan): [2, 3]}"
      ]
     },
     "execution_count": 22,
     "metadata": {},
     "output_type": "execute_result"
    }
   ],
   "source": [
    "gr2.groups"
   ]
  },
  {
   "cell_type": "code",
   "execution_count": 30,
   "id": "cfdffa5a",
   "metadata": {},
   "outputs": [
    {
     "ename": "IndentationError",
     "evalue": "unindent does not match any outer indentation level (<tokenize>, line 3)",
     "output_type": "error",
     "traceback": [
      "\u001b[1;36m  File \u001b[1;32m<tokenize>:3\u001b[1;36m\u001b[0m\n\u001b[1;33m    print(df_1)\u001b[0m\n\u001b[1;37m    ^\u001b[0m\n\u001b[1;31mIndentationError\u001b[0m\u001b[1;31m:\u001b[0m unindent does not match any outer indentation level\n"
     ]
    }
   ],
   "source": [
    "for name, df_1 in gr1:\n",
    "     print(name)\n",
    "    print(df_1)"
   ]
  },
  {
   "cell_type": "code",
   "execution_count": null,
   "id": "577efe29",
   "metadata": {},
   "outputs": [],
   "source": []
  }
 ],
 "metadata": {
  "kernelspec": {
   "display_name": "Python 3 (ipykernel)",
   "language": "python",
   "name": "python3"
  },
  "language_info": {
   "codemirror_mode": {
    "name": "ipython",
    "version": 3
   },
   "file_extension": ".py",
   "mimetype": "text/x-python",
   "name": "python",
   "nbconvert_exporter": "python",
   "pygments_lexer": "ipython3",
   "version": "3.9.12"
  }
 },
 "nbformat": 4,
 "nbformat_minor": 5
}
