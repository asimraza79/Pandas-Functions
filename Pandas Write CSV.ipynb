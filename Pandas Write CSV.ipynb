{
 "cells": [
  {
   "cell_type": "code",
   "execution_count": 1,
   "id": "fd52988d",
   "metadata": {},
   "outputs": [],
   "source": [
    "import pandas as pd"
   ]
  },
  {
   "cell_type": "code",
   "execution_count": 2,
   "id": "741aaefd",
   "metadata": {},
   "outputs": [
    {
     "name": "stdout",
     "output_type": "stream",
     "text": [
      "        date  abc  name   roll   id    med  customer\n",
      "0   1/9/2022  yes  asim   13.0  1.0  123.0        34\n",
      "1   1/2/2019  yes  zain  143.0  2.0  345.0        23\n",
      "2   4/6/2019   no   NaN    NaN  3.0    NaN         2\n",
      "3  4/11/2022  yes   NaN    NaN  NaN  345.0         3\n",
      "4  2/10/2021   no  zaib  156.0  NaN  987.0        45\n",
      "5   6/3/2022  yes  asif    NaN  NaN    NaN         6\n",
      "6   2/4/2022  NaN   NaN   12.0  7.0    NaN         7\n"
     ]
    }
   ],
   "source": [
    "df=pd.read_csv('D:\\\\Paython\\\\Book1.csv')\n",
    "print(df)"
   ]
  },
  {
   "cell_type": "code",
   "execution_count": 3,
   "id": "3ec8cab8",
   "metadata": {},
   "outputs": [
    {
     "name": "stdout",
     "output_type": "stream",
     "text": [
      "       date  abc  name  roll  id  med  customer\n",
      "0  1/9/2022  yes  asim    13   1  123        34\n"
     ]
    }
   ],
   "source": [
    "df=pd.read_csv('D:\\\\Paython\\\\Book1.csv', nrows=1)\n",
    "print(df)"
   ]
  },
  {
   "cell_type": "code",
   "execution_count": 4,
   "id": "2e3dfc43",
   "metadata": {},
   "outputs": [
    {
     "name": "stdout",
     "output_type": "stream",
     "text": [
      "        date  abc  name   roll   id    med  customer\n",
      "0   1/9/2022  yes  asim   13.0  1.0  123.0        34\n",
      "1   1/2/2019  yes  zain  143.0  2.0  345.0        23\n",
      "2   4/6/2019   no   NaN    NaN  3.0    NaN         2\n",
      "3  4/11/2022  yes   NaN    NaN  NaN  345.0         3\n",
      "4  2/10/2021   no  zaib  156.0  NaN  987.0        45\n"
     ]
    }
   ],
   "source": [
    "df=pd.read_csv('D:\\\\Paython\\\\Book1.csv', nrows=5)\n",
    "print(df)"
   ]
  },
  {
   "cell_type": "code",
   "execution_count": 5,
   "id": "2c0d096b",
   "metadata": {},
   "outputs": [
    {
     "data": {
      "text/plain": [
       "pandas.core.frame.DataFrame"
      ]
     },
     "execution_count": 5,
     "metadata": {},
     "output_type": "execute_result"
    }
   ],
   "source": [
    "type (df )"
   ]
  },
  {
   "cell_type": "code",
   "execution_count": 6,
   "id": "2f0fd51a",
   "metadata": {},
   "outputs": [
    {
     "data": {
      "text/plain": [
       "Index(['date', 'abc', 'name', 'roll', 'id', 'med', 'customer'], dtype='object')"
      ]
     },
     "execution_count": 6,
     "metadata": {},
     "output_type": "execute_result"
    }
   ],
   "source": [
    "df.columns"
   ]
  },
  {
   "cell_type": "code",
   "execution_count": 7,
   "id": "9769f50e",
   "metadata": {},
   "outputs": [
    {
     "name": "stdout",
     "output_type": "stream",
     "text": [
      "   abc  name\n",
      "0  yes  asim\n",
      "1  yes  zain\n",
      "2   no   NaN\n",
      "3  yes   NaN\n",
      "4   no  zaib\n",
      "5  yes  asif\n",
      "6  NaN   NaN\n"
     ]
    }
   ],
   "source": [
    "df=pd.read_csv('D:\\\\Paython\\\\Book1.csv', usecols=(1,2))\n",
    "print(df)"
   ]
  },
  {
   "cell_type": "code",
   "execution_count": 8,
   "id": "4f723fe5",
   "metadata": {},
   "outputs": [
    {
     "name": "stdout",
     "output_type": "stream",
     "text": [
      "        date  abc  name   roll   id    med  customer\n",
      "0   1/9/2022  yes  asim   13.0  1.0  123.0        34\n",
      "1   1/2/2019  yes  zain  143.0  2.0  345.0        23\n",
      "2   4/6/2019   no   NaN    NaN  3.0    NaN         2\n",
      "3  4/11/2022  yes   NaN    NaN  NaN  345.0         3\n",
      "4  2/10/2021   no  zaib  156.0  NaN  987.0        45\n",
      "5   6/3/2022  yes  asif    NaN  NaN    NaN         6\n",
      "6   2/4/2022  NaN   NaN   12.0  7.0    NaN         7\n"
     ]
    }
   ],
   "source": [
    "df=pd.read_csv('D:\\\\Paython\\\\Book1.csv')\n",
    "print(df)"
   ]
  },
  {
   "cell_type": "code",
   "execution_count": 9,
   "id": "4a7c6cc4",
   "metadata": {},
   "outputs": [
    {
     "name": "stdout",
     "output_type": "stream",
     "text": [
      "    1/9/2022  yes  asim     13    1    123  34\n",
      "0   1/2/2019  yes  zain  143.0  2.0  345.0  23\n",
      "1   4/6/2019   no   NaN    NaN  3.0    NaN   2\n",
      "2  4/11/2022  yes   NaN    NaN  NaN  345.0   3\n",
      "3  2/10/2021   no  zaib  156.0  NaN  987.0  45\n",
      "4   6/3/2022  yes  asif    NaN  NaN    NaN   6\n",
      "5   2/4/2022  NaN   NaN   12.0  7.0    NaN   7\n"
     ]
    }
   ],
   "source": [
    "df=pd.read_csv('D:\\\\Paython\\\\Book1.csv', skiprows=1)\n",
    "print(df)"
   ]
  },
  {
   "cell_type": "code",
   "execution_count": 10,
   "id": "b2aa5f3b",
   "metadata": {},
   "outputs": [
    {
     "name": "stdout",
     "output_type": "stream",
     "text": [
      "    1/9/2022  yes  asim     13    1    123  34\n",
      "0   1/2/2019  yes  zain  143.0  2.0  345.0  23\n",
      "1   4/6/2019   no   NaN    NaN  3.0    NaN   2\n",
      "2  4/11/2022  yes   NaN    NaN  NaN  345.0   3\n",
      "3  2/10/2021   no  zaib  156.0  NaN  987.0  45\n",
      "4   6/3/2022  yes  asif    NaN  NaN    NaN   6\n",
      "5   2/4/2022  NaN   NaN   12.0  7.0    NaN   7\n"
     ]
    }
   ],
   "source": [
    "df=pd.read_csv('D:\\\\Paython\\\\Book1.csv', skiprows=[0])\n",
    "print(df)"
   ]
  },
  {
   "cell_type": "code",
   "execution_count": 11,
   "id": "f3c5a4a8",
   "metadata": {},
   "outputs": [
    {
     "name": "stdout",
     "output_type": "stream",
     "text": [
      "        date  abc  name   roll   id    med  customer\n",
      "0   1/9/2022  yes  asim   13.0  1.0  123.0        34\n",
      "1   1/2/2019  yes  zain  143.0  2.0  345.0        23\n",
      "2   4/6/2019   no   NaN    NaN  3.0    NaN         2\n",
      "3  4/11/2022  yes   NaN    NaN  NaN  345.0         3\n",
      "4   6/3/2022  yes  asif    NaN  NaN    NaN         6\n",
      "5   2/4/2022  NaN   NaN   12.0  7.0    NaN         7\n"
     ]
    }
   ],
   "source": [
    "df=pd.read_csv('D:\\\\Paython\\\\Book1.csv', skiprows=[5])\n",
    "print(df)"
   ]
  },
  {
   "cell_type": "code",
   "execution_count": 12,
   "id": "64e89f26",
   "metadata": {},
   "outputs": [
    {
     "name": "stdout",
     "output_type": "stream",
     "text": [
      "           date  abc   roll   id    med  customer\n",
      "name                                             \n",
      "asim   1/9/2022  yes   13.0  1.0  123.0        34\n",
      "zain   1/2/2019  yes  143.0  2.0  345.0        23\n",
      "NaN    4/6/2019   no    NaN  3.0    NaN         2\n",
      "NaN   4/11/2022  yes    NaN  NaN  345.0         3\n",
      "zaib  2/10/2021   no  156.0  NaN  987.0        45\n",
      "asif   6/3/2022  yes    NaN  NaN    NaN         6\n",
      "NaN    2/4/2022  NaN   12.0  7.0    NaN         7\n"
     ]
    }
   ],
   "source": [
    "df=pd.read_csv('D:\\\\Paython\\\\Book1.csv', index_col=[2])\n",
    "print(df)"
   ]
  },
  {
   "cell_type": "code",
   "execution_count": 13,
   "id": "c7b11896",
   "metadata": {},
   "outputs": [
    {
     "name": "stdout",
     "output_type": "stream",
     "text": [
      "          date  name   roll   id    med  customer\n",
      "abc                                              \n",
      "yes   1/9/2022  asim   13.0  1.0  123.0        34\n",
      "yes   1/2/2019  zain  143.0  2.0  345.0        23\n",
      "no    4/6/2019   NaN    NaN  3.0    NaN         2\n",
      "yes  4/11/2022   NaN    NaN  NaN  345.0         3\n",
      "no   2/10/2021  zaib  156.0  NaN  987.0        45\n",
      "yes   6/3/2022  asif    NaN  NaN    NaN         6\n",
      "NaN   2/4/2022   NaN   12.0  7.0    NaN         7\n"
     ]
    }
   ],
   "source": [
    "df=pd.read_csv('D:\\\\Paython\\\\Book1.csv', index_col=[1])\n",
    "print(df)"
   ]
  },
  {
   "cell_type": "code",
   "execution_count": null,
   "id": "931a6f8d",
   "metadata": {},
   "outputs": [],
   "source": []
  },
  {
   "cell_type": "code",
   "execution_count": null,
   "id": "4b1dc644",
   "metadata": {},
   "outputs": [],
   "source": []
  }
 ],
 "metadata": {
  "kernelspec": {
   "display_name": "Python 3 (ipykernel)",
   "language": "python",
   "name": "python3"
  },
  "language_info": {
   "codemirror_mode": {
    "name": "ipython",
    "version": 3
   },
   "file_extension": ".py",
   "mimetype": "text/x-python",
   "name": "python",
   "nbconvert_exporter": "python",
   "pygments_lexer": "ipython3",
   "version": "3.9.12"
  }
 },
 "nbformat": 4,
 "nbformat_minor": 5
}
