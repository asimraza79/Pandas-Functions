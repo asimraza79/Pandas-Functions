{
 "cells": [
  {
   "cell_type": "code",
   "execution_count": 1,
   "id": "16c441b7",
   "metadata": {},
   "outputs": [],
   "source": [
    "import pandas as pd"
   ]
  },
  {
   "cell_type": "code",
   "execution_count": 4,
   "id": "4587eee9",
   "metadata": {},
   "outputs": [
    {
     "name": "stdout",
     "output_type": "stream",
     "text": [
      "        date  abc  name   roll   id    med  customer\n",
      "0   1/9/2022  yes  asim   13.0  1.0  123.0        34\n",
      "1   1/2/2019  yes  zain  143.0  2.0  345.0        23\n",
      "2   4/6/2019   no   NaN    NaN  3.0    NaN         2\n",
      "3  4/11/2022  yes   NaN    NaN  NaN  345.0         3\n",
      "4  2/10/2021   no  zaib  156.0  NaN  987.0        45\n",
      "5   6/3/2022  yes  asif    NaN  NaN    NaN         6\n",
      "6   2/4/2022  NaN   NaN   12.0  7.0    NaN         7\n"
     ]
    }
   ],
   "source": [
    "df=pd.read_csv('D:\\\\Paython\\\\Book1.csv')\n",
    "print(df)"
   ]
  },
  {
   "cell_type": "code",
   "execution_count": 6,
   "id": "ce7e5d17",
   "metadata": {},
   "outputs": [
    {
     "ename": "TypeError",
     "evalue": "read_csv() got an unexpected keyword argument 'squeze'",
     "output_type": "error",
     "traceback": [
      "\u001b[1;31m---------------------------------------------------------------------------\u001b[0m",
      "\u001b[1;31mTypeError\u001b[0m                                 Traceback (most recent call last)",
      "Input \u001b[1;32mIn [6]\u001b[0m, in \u001b[0;36m<cell line: 1>\u001b[1;34m()\u001b[0m\n\u001b[1;32m----> 1\u001b[0m df\u001b[38;5;241m=\u001b[39m\u001b[43mpd\u001b[49m\u001b[38;5;241;43m.\u001b[39;49m\u001b[43mread_csv\u001b[49m\u001b[43m(\u001b[49m\u001b[38;5;124;43m'\u001b[39;49m\u001b[38;5;124;43mD:\u001b[39;49m\u001b[38;5;130;43;01m\\\\\u001b[39;49;00m\u001b[38;5;124;43mPaython\u001b[39;49m\u001b[38;5;130;43;01m\\\\\u001b[39;49;00m\u001b[38;5;124;43mBook1.csv\u001b[39;49m\u001b[38;5;124;43m'\u001b[39;49m\u001b[43m \u001b[49m\u001b[43m,\u001b[49m\u001b[43msqueze\u001b[49m\u001b[38;5;241;43m=\u001b[39;49m\u001b[43m(\u001b[49m\u001b[38;5;241;43m2\u001b[39;49m\u001b[43m)\u001b[49m\u001b[43m)\u001b[49m\n\u001b[0;32m      2\u001b[0m \u001b[38;5;28mprint\u001b[39m(df)\n",
      "File \u001b[1;32m~\\anaconda3\\lib\\site-packages\\pandas\\util\\_decorators.py:311\u001b[0m, in \u001b[0;36mdeprecate_nonkeyword_arguments.<locals>.decorate.<locals>.wrapper\u001b[1;34m(*args, **kwargs)\u001b[0m\n\u001b[0;32m    305\u001b[0m \u001b[38;5;28;01mif\u001b[39;00m \u001b[38;5;28mlen\u001b[39m(args) \u001b[38;5;241m>\u001b[39m num_allow_args:\n\u001b[0;32m    306\u001b[0m     warnings\u001b[38;5;241m.\u001b[39mwarn(\n\u001b[0;32m    307\u001b[0m         msg\u001b[38;5;241m.\u001b[39mformat(arguments\u001b[38;5;241m=\u001b[39marguments),\n\u001b[0;32m    308\u001b[0m         \u001b[38;5;167;01mFutureWarning\u001b[39;00m,\n\u001b[0;32m    309\u001b[0m         stacklevel\u001b[38;5;241m=\u001b[39mstacklevel,\n\u001b[0;32m    310\u001b[0m     )\n\u001b[1;32m--> 311\u001b[0m \u001b[38;5;28;01mreturn\u001b[39;00m func(\u001b[38;5;241m*\u001b[39margs, \u001b[38;5;241m*\u001b[39m\u001b[38;5;241m*\u001b[39mkwargs)\n",
      "\u001b[1;31mTypeError\u001b[0m: read_csv() got an unexpected keyword argument 'squeze'"
     ]
    }
   ],
   "source": [
    "df=pd.read_csv('D:\\\\Paython\\\\Book1.csv' ,squeze=T\n",
    "print(df)\n"
   ]
  },
  {
   "cell_type": "code",
   "execution_count": 3,
   "id": "add63671",
   "metadata": {},
   "outputs": [
    {
     "name": "stdout",
     "output_type": "stream",
     "text": [
      "    1/9/2022  yes  asim     13    1    123  34\n",
      "0   1/2/2019  yes  zain  143.0  2.0  345.0  23\n",
      "1   4/6/2019   no   NaN    NaN  3.0    NaN   2\n",
      "2  4/11/2022  yes   NaN    NaN  NaN  345.0   3\n",
      "3  2/10/2021   no  zaib  156.0  NaN  987.0  45\n",
      "4   6/3/2022  yes  asif    NaN  NaN    NaN   6\n",
      "5   2/4/2022  NaN   NaN   12.0  7.0    NaN   7\n"
     ]
    }
   ],
   "source": [
    "df=pd.read_csv('D:\\\\Paython\\\\Book1.csv', header=1)\n",
    "print(df)"
   ]
  },
  {
   "cell_type": "code",
   "execution_count": 4,
   "id": "e4a7aeb2",
   "metadata": {},
   "outputs": [
    {
     "name": "stdout",
     "output_type": "stream",
     "text": [
      "        date  abc  name   roll   id    med  customer\n",
      "0   1/9/2022  yes  asim   13.0  1.0  123.0        34\n",
      "1   1/2/2019  yes  zain  143.0  2.0  345.0        23\n",
      "2   4/6/2019   no   NaN    NaN  3.0    NaN         2\n",
      "3  4/11/2022  yes   NaN    NaN  NaN  345.0         3\n",
      "4  2/10/2021   no  zaib  156.0  NaN  987.0        45\n",
      "5   6/3/2022  yes  asif    NaN  NaN    NaN         6\n",
      "6   2/4/2022  NaN   NaN   12.0  7.0    NaN         7\n"
     ]
    }
   ],
   "source": [
    "df=pd.read_csv('D:\\\\Paython\\\\Book1.csv')\n",
    "print(df)"
   ]
  },
  {
   "cell_type": "code",
   "execution_count": 5,
   "id": "2d9b3ed8",
   "metadata": {},
   "outputs": [
    {
     "name": "stdout",
     "output_type": "stream",
     "text": [
      "    1/2/2019  yes  zain    143    2    345  23\n",
      "0   4/6/2019   no   NaN    NaN  3.0    NaN   2\n",
      "1  4/11/2022  yes   NaN    NaN  NaN  345.0   3\n",
      "2  2/10/2021   no  zaib  156.0  NaN  987.0  45\n",
      "3   6/3/2022  yes  asif    NaN  NaN    NaN   6\n",
      "4   2/4/2022  NaN   NaN   12.0  7.0    NaN   7\n"
     ]
    }
   ],
   "source": [
    "df=pd.read_csv('D:\\\\Paython\\\\Book1.csv', header=2)\n",
    "print(df)"
   ]
  },
  {
   "cell_type": "code",
   "execution_count": 6,
   "id": "00d8b36b",
   "metadata": {},
   "outputs": [
    {
     "name": "stdout",
     "output_type": "stream",
     "text": [
      "        date  abc  name   roll   id    med  customer\n",
      "0   1/9/2022  yes  asim   13.0  1.0  123.0        34\n",
      "1   1/2/2019  yes  zain  143.0  2.0  345.0        23\n",
      "2   4/6/2019   no   NaN    NaN  3.0    NaN         2\n",
      "3  4/11/2022  yes   NaN    NaN  NaN  345.0         3\n",
      "4  2/10/2021   no  zaib  156.0  NaN  987.0        45\n",
      "5   6/3/2022  yes  asif    NaN  NaN    NaN         6\n",
      "6   2/4/2022  NaN   NaN   12.0  7.0    NaN         7\n"
     ]
    }
   ],
   "source": [
    "df=pd.read_csv('D:\\\\Paython\\\\Book1.csv')\n",
    "print(df)"
   ]
  },
  {
   "cell_type": "code",
   "execution_count": 7,
   "id": "6b743384",
   "metadata": {},
   "outputs": [
    {
     "name": "stdout",
     "output_type": "stream",
     "text": [
      "           0    1     2     3    4    5         6\n",
      "0       date  abc  name  roll   id  med  customer\n",
      "1   1/9/2022  yes  asim    13    1  123        34\n",
      "2   1/2/2019  yes  zain   143    2  345        23\n",
      "3   4/6/2019   no   NaN   NaN    3  NaN         2\n",
      "4  4/11/2022  yes   NaN   NaN  NaN  345         3\n",
      "5  2/10/2021   no  zaib   156  NaN  987        45\n",
      "6   6/3/2022  yes  asif   NaN  NaN  NaN         6\n",
      "7   2/4/2022  NaN   NaN    12    7  NaN         7\n"
     ]
    }
   ],
   "source": [
    "df=pd.read_csv('D:\\\\Paython\\\\Book1.csv', header=None)\n",
    "print(df)"
   ]
  },
  {
   "cell_type": "markdown",
   "id": "65167319",
   "metadata": {},
   "source": [
    "# Prefix"
   ]
  },
  {
   "cell_type": "code",
   "execution_count": 8,
   "id": "634ddc00",
   "metadata": {},
   "outputs": [
    {
     "name": "stdout",
     "output_type": "stream",
     "text": [
      "       data0 data1 data2 data3 data4 data5     data6\n",
      "0       date   abc  name  roll    id   med  customer\n",
      "1   1/9/2022   yes  asim    13     1   123        34\n",
      "2   1/2/2019   yes  zain   143     2   345        23\n",
      "3   4/6/2019    no   NaN   NaN     3   NaN         2\n",
      "4  4/11/2022   yes   NaN   NaN   NaN   345         3\n",
      "5  2/10/2021    no  zaib   156   NaN   987        45\n",
      "6   6/3/2022   yes  asif   NaN   NaN   NaN         6\n",
      "7   2/4/2022   NaN   NaN    12     7   NaN         7\n"
     ]
    },
    {
     "name": "stderr",
     "output_type": "stream",
     "text": [
      "C:\\Program Files\\KMSpico\\temp\\ipykernel_7944\\1538846046.py:1: FutureWarning: The prefix argument has been deprecated and will be removed in a future version. Use a list comprehension on the column names in the future.\n",
      "\n",
      "\n",
      "  df=pd.read_csv('D:\\\\Paython\\\\Book1.csv', header=None, prefix='data')\n"
     ]
    }
   ],
   "source": [
    "df=pd.read_csv('D:\\\\Paython\\\\Book1.csv', header=None, prefix='data')\n",
    "print(df)"
   ]
  },
  {
   "cell_type": "markdown",
   "id": "eb56aff0",
   "metadata": {},
   "source": [
    "# Names"
   ]
  },
  {
   "cell_type": "code",
   "execution_count": 11,
   "id": "d530b7ee",
   "metadata": {},
   "outputs": [
    {
     "ename": "SyntaxError",
     "evalue": "positional argument follows keyword argument (174855173.py, line 1)",
     "output_type": "error",
     "traceback": [
      "\u001b[1;36m  Input \u001b[1;32mIn [11]\u001b[1;36m\u001b[0m\n\u001b[1;33m    df=pd.read_csv('D:\\\\Paython\\\\Book1.csv', names=['a','b','c','d','e','f'],'e')\u001b[0m\n\u001b[1;37m                                                                                ^\u001b[0m\n\u001b[1;31mSyntaxError\u001b[0m\u001b[1;31m:\u001b[0m positional argument follows keyword argument\n"
     ]
    }
   ],
   "source": [
    "df=pd.read_csv('D:\\\\Paython\\\\Book1.csv', names=['a','b','c','d','e','f'],'e')\n",
    "print(df)"
   ]
  },
  {
   "cell_type": "code",
   "execution_count": null,
   "id": "c06d6389",
   "metadata": {},
   "outputs": [],
   "source": []
  }
 ],
 "metadata": {
  "kernelspec": {
   "display_name": "Python 3 (ipykernel)",
   "language": "python",
   "name": "python3"
  },
  "language_info": {
   "codemirror_mode": {
    "name": "ipython",
    "version": 3
   },
   "file_extension": ".py",
   "mimetype": "text/x-python",
   "name": "python",
   "nbconvert_exporter": "python",
   "pygments_lexer": "ipython3",
   "version": "3.9.12"
  }
 },
 "nbformat": 4,
 "nbformat_minor": 5
}
