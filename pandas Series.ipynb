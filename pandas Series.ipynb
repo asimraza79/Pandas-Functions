{
 "cells": [
  {
   "cell_type": "code",
   "execution_count": 1,
   "id": "cdbc52e1",
   "metadata": {},
   "outputs": [],
   "source": [
    "import pandas as pd"
   ]
  },
  {
   "cell_type": "code",
   "execution_count": 2,
   "id": "07dedc3a",
   "metadata": {},
   "outputs": [
    {
     "name": "stdout",
     "output_type": "stream",
     "text": [
      "[1, 2, 3, 'asim']\n"
     ]
    }
   ],
   "source": [
    "a= [1 ,2 ,3 ,\"asim\"]\n",
    "print(a)"
   ]
  },
  {
   "cell_type": "code",
   "execution_count": 3,
   "id": "83058678",
   "metadata": {},
   "outputs": [
    {
     "data": {
      "text/plain": [
       "0       1\n",
       "1       2\n",
       "2       3\n",
       "3    asim\n",
       "dtype: object"
      ]
     },
     "execution_count": 3,
     "metadata": {},
     "output_type": "execute_result"
    }
   ],
   "source": [
    "pd.Series(a)"
   ]
  },
  {
   "cell_type": "code",
   "execution_count": 4,
   "id": "2333b998",
   "metadata": {},
   "outputs": [
    {
     "name": "stdout",
     "output_type": "stream",
     "text": [
      "a    1\n",
      "b    2\n",
      "c    3\n",
      "d    4\n",
      "dtype: int64\n"
     ]
    }
   ],
   "source": [
    "series3=pd.Series([1 ,2,3,4], index= ['a', 'b','c', 'd'])\n",
    "print(series3)"
   ]
  },
  {
   "cell_type": "code",
   "execution_count": 5,
   "id": "0002eabb",
   "metadata": {},
   "outputs": [
    {
     "name": "stdout",
     "output_type": "stream",
     "text": [
      "a    1.0\n",
      "b    2.0\n",
      "c    3.0\n",
      "d    4.0\n",
      "dtype: float64\n"
     ]
    }
   ],
   "source": [
    "series3=pd.Series([1 ,2,3,4], index= ['a', 'b','c', 'd'], dtype=float)\n",
    "print(series3)"
   ]
  },
  {
   "cell_type": "code",
   "execution_count": 6,
   "id": "6517a530",
   "metadata": {},
   "outputs": [
    {
     "name": "stdout",
     "output_type": "stream",
     "text": [
      "Series([], dtype: float64)\n"
     ]
    },
    {
     "name": "stderr",
     "output_type": "stream",
     "text": [
      "C:\\Program Files\\KMSpico\\temp\\ipykernel_1820\\5557116.py:1: FutureWarning: The default dtype for empty Series will be 'object' instead of 'float64' in a future version. Specify a dtype explicitly to silence this warning.\n",
      "  series1=pd.Series([])\n"
     ]
    }
   ],
   "source": [
    "series1=pd.Series([])\n",
    "print(series1)"
   ]
  },
  {
   "cell_type": "code",
   "execution_count": 7,
   "id": "d5376e6f",
   "metadata": {},
   "outputs": [
    {
     "name": "stdout",
     "output_type": "stream",
     "text": [
      "a    1.0\n",
      "b    2.0\n",
      "c    3.0\n",
      "d    4.0\n",
      "Name: data values, dtype: float64\n"
     ]
    }
   ],
   "source": [
    "series3=pd.Series([1 ,2,3,4], index= ['a', 'b','c', 'd'], dtype=float, name='data values')\n",
    "print(series3)"
   ]
  },
  {
   "cell_type": "code",
   "execution_count": 8,
   "id": "c83edf79",
   "metadata": {},
   "outputs": [
    {
     "name": "stdout",
     "output_type": "stream",
     "text": [
      "1    0.5\n",
      "2    0.5\n",
      "3    0.5\n",
      "dtype: float64\n"
     ]
    }
   ],
   "source": [
    "scalar3=pd.Series(0.5, index=[1,2,3])\n",
    "print(scalar3)"
   ]
  },
  {
   "cell_type": "code",
   "execution_count": 9,
   "id": "87004ccb",
   "metadata": {},
   "outputs": [
    {
     "name": "stdout",
     "output_type": "stream",
     "text": [
      "a    1\n",
      "b    2\n",
      "c    3\n",
      "dtype: int64\n"
     ]
    }
   ],
   "source": [
    "c=pd.Series({'a':1, 'b':2, 'c':3})\n",
    "print(c)"
   ]
  },
  {
   "cell_type": "code",
   "execution_count": 10,
   "id": "cbbc68ea",
   "metadata": {},
   "outputs": [
    {
     "name": "stdout",
     "output_type": "stream",
     "text": [
      "0    1\n",
      "1    2\n",
      "2    3\n",
      "3    4\n",
      "dtype: int64\n"
     ]
    }
   ],
   "source": [
    "s4=pd.Series([1,2,3,4])\n",
    "print(s4)"
   ]
  },
  {
   "cell_type": "code",
   "execution_count": 11,
   "id": "dfc99772",
   "metadata": {},
   "outputs": [
    {
     "data": {
      "text/plain": [
       "4"
      ]
     },
     "execution_count": 11,
     "metadata": {},
     "output_type": "execute_result"
    }
   ],
   "source": [
    "max(s4)"
   ]
  },
  {
   "cell_type": "code",
   "execution_count": 12,
   "id": "11aaab55",
   "metadata": {},
   "outputs": [
    {
     "data": {
      "text/plain": [
       "4"
      ]
     },
     "execution_count": 12,
     "metadata": {},
     "output_type": "execute_result"
    }
   ],
   "source": [
    "s4[3]"
   ]
  },
  {
   "cell_type": "code",
   "execution_count": 13,
   "id": "e88ccc65",
   "metadata": {},
   "outputs": [
    {
     "data": {
      "text/plain": [
       "1    2\n",
       "2    3\n",
       "dtype: int64"
      ]
     },
     "execution_count": 13,
     "metadata": {},
     "output_type": "execute_result"
    }
   ],
   "source": [
    "s4[1:3]"
   ]
  },
  {
   "cell_type": "code",
   "execution_count": 14,
   "id": "c459e8bd",
   "metadata": {},
   "outputs": [
    {
     "name": "stdout",
     "output_type": "stream",
     "text": [
      "0    2\n",
      "1    3\n",
      "2    4\n",
      "3    5\n",
      "dtype: int64\n"
     ]
    }
   ],
   "source": [
    "s5=pd.Series([2,3,4,5])\n",
    "print(s5)"
   ]
  },
  {
   "cell_type": "code",
   "execution_count": 15,
   "id": "4fbe7b53",
   "metadata": {},
   "outputs": [
    {
     "data": {
      "text/plain": [
       "0    3\n",
       "1    5\n",
       "2    7\n",
       "3    9\n",
       "dtype: int64"
      ]
     },
     "execution_count": 15,
     "metadata": {},
     "output_type": "execute_result"
    }
   ],
   "source": [
    "s4+s5"
   ]
  },
  {
   "cell_type": "code",
   "execution_count": null,
   "id": "c56e5a37",
   "metadata": {},
   "outputs": [],
   "source": []
  },
  {
   "cell_type": "code",
   "execution_count": null,
   "id": "a180d445",
   "metadata": {},
   "outputs": [],
   "source": []
  }
 ],
 "metadata": {
  "kernelspec": {
   "display_name": "Python 3 (ipykernel)",
   "language": "python",
   "name": "python3"
  },
  "language_info": {
   "codemirror_mode": {
    "name": "ipython",
    "version": 3
   },
   "file_extension": ".py",
   "mimetype": "text/x-python",
   "name": "python",
   "nbconvert_exporter": "python",
   "pygments_lexer": "ipython3",
   "version": "3.9.12"
  }
 },
 "nbformat": 4,
 "nbformat_minor": 5
}
