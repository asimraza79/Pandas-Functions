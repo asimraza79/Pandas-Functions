{
 "cells": [
  {
   "cell_type": "code",
   "execution_count": 1,
   "id": "aee69a1a",
   "metadata": {},
   "outputs": [],
   "source": [
    "import pandas as pd"
   ]
  },
  {
   "cell_type": "code",
   "execution_count": 2,
   "id": "6014e7cf",
   "metadata": {},
   "outputs": [
    {
     "name": "stdout",
     "output_type": "stream",
     "text": [
      "   abc   name       roll   id\n",
      "0  yes   asim         13  1.0\n",
      "1   no    ali         12  2.0\n",
      "2  NaN   zain        143  3.0\n",
      "3   no   zaib        153  4.0\n",
      "4  yes  faria  not avail  NaN\n",
      "5   no  zaini        156  6.0\n",
      "6  NaN    NaN        NaN  NaN\n"
     ]
    }
   ],
   "source": [
    "df=pd.read_csv('D:\\\\Paython\\\\Book1.csv')\n",
    "print(df)"
   ]
  },
  {
   "cell_type": "code",
   "execution_count": 3,
   "id": "aebb8ed8",
   "metadata": {},
   "outputs": [
    {
     "name": "stdout",
     "output_type": "stream",
     "text": [
      "   abc   name   roll   id\n",
      "0  yes   asim   13.0  1.0\n",
      "1   no    ali   12.0  2.0\n",
      "2  NaN   zain  143.0  3.0\n",
      "3   no   zaib  153.0  4.0\n",
      "4  yes  faria    NaN  NaN\n",
      "5   no  zaini  156.0  6.0\n",
      "6  NaN    NaN    NaN  NaN\n"
     ]
    }
   ],
   "source": [
    "df=pd.read_csv('D:\\\\Paython\\\\Book1.csv', na_values=['not avail'])\n",
    "print(df)"
   ]
  },
  {
   "cell_type": "code",
   "execution_count": 4,
   "id": "0b77b5e4",
   "metadata": {},
   "outputs": [
    {
     "name": "stdout",
     "output_type": "stream",
     "text": [
      "    abc   name       roll    id\n",
      "0   yes   asim         13     1\n",
      "1    no    ali         12     2\n",
      "2  null   zain        143     3\n",
      "3    no   zaib        153     4\n",
      "4   yes  faria  not avail  null\n",
      "5    no  zaini        156     6\n",
      "6  null   null       null  null\n"
     ]
    }
   ],
   "source": [
    "df=pd.read_csv('D:\\\\Paython\\\\Book1.csv', keep_default_na=False )\n",
    "print(df)"
   ]
  },
  {
   "cell_type": "code",
   "execution_count": 5,
   "id": "b6a5e79e",
   "metadata": {},
   "outputs": [
    {
     "name": "stdout",
     "output_type": "stream",
     "text": [
      "    abc   name       roll    id\n",
      "0   yes   asim         13     1\n",
      "1    no    ali         12     2\n",
      "2  null   zain        143     3\n",
      "3    no   zaib        153     4\n",
      "4   yes  faria  not avail  null\n",
      "5    no  zaini        156     6\n",
      "6  null   null       null  null\n"
     ]
    }
   ],
   "source": [
    "df=pd.read_csv('D:\\\\Paython\\\\Book1.csv', na_filter=False)\n",
    "print(df)"
   ]
  },
  {
   "cell_type": "code",
   "execution_count": 6,
   "id": "7886d18d",
   "metadata": {},
   "outputs": [
    {
     "name": "stdout",
     "output_type": "stream",
     "text": [
      "   abc   name       roll   id\n",
      "0  yes   asim         13  1.0\n",
      "1   no    ali         12  2.0\n",
      "2  NaN   zain        143  3.0\n",
      "3   no   zaib        153  4.0\n",
      "4  yes  faria  not avail  NaN\n",
      "5   no  zaini        156  6.0\n",
      "6  NaN    NaN        NaN  NaN\n"
     ]
    }
   ],
   "source": [
    "df=pd.read_csv('D:\\\\Paython\\\\Book1.csv', na_filter=True)\n",
    "print(df)"
   ]
  },
  {
   "cell_type": "code",
   "execution_count": null,
   "id": "a1cb8d38",
   "metadata": {},
   "outputs": [],
   "source": []
  }
 ],
 "metadata": {
  "kernelspec": {
   "display_name": "Python 3 (ipykernel)",
   "language": "python",
   "name": "python3"
  },
  "language_info": {
   "codemirror_mode": {
    "name": "ipython",
    "version": 3
   },
   "file_extension": ".py",
   "mimetype": "text/x-python",
   "name": "python",
   "nbconvert_exporter": "python",
   "pygments_lexer": "ipython3",
   "version": "3.9.12"
  }
 },
 "nbformat": 4,
 "nbformat_minor": 5
}
